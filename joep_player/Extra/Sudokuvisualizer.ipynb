{
 "cells": [
  {
   "cell_type": "code",
   "execution_count": 4,
   "metadata": {},
   "outputs": [],
   "source": [
    "import numpy as np\n",
    "import matplotlib.pyplot as plt\n",
    "from matplotlib.colors import ListedColormap"
   ]
  },
  {
   "cell_type": "code",
   "execution_count": 8,
   "metadata": {},
   "outputs": [
    {
     "data": {
      "image/png": "[encoded data removed]",
      "text/plain": [
       "<Figure size 900x900 with 1 Axes>"
      ]
     },
     "metadata": {},
     "output_type": "display_data"
    }
   ],
   "source": [
    "import matplotlib.pyplot as plt\n",
    "import matplotlib.patches as patches\n",
    "\n",
    "def plot_custom_sudoku():\n",
    "    # Initialize plot\n",
    "    fig, ax = plt.subplots(figsize=(9, 9))\n",
    "    \n",
    "    # Set the grid size\n",
    "    N = 9\n",
    "    cell_size = 1\n",
    "\n",
    "    # Define the specific cells\n",
    "    blue_cells = {\n",
    "        (8, 1): '1',\n",
    "        (7, 1): '2'\n",
    "    }\n",
    "    semi_transparent_blue_cells = {\n",
    "        (7, 0): '3'\n",
    "    }\n",
    "    red_dashed_cells = [(6, 1), (6, 0)]\n",
    "\n",
    "    # Draw the grid cells\n",
    "    for row in range(N):\n",
    "        for col in range(N):\n",
    "            # Calculate the bottom-left corner of the cell\n",
    "            x = col\n",
    "            y = N - row - 1  # To have row 0 at the top\n",
    "\n",
    "            # Default cell properties\n",
    "            facecolor = 'white'\n",
    "            edgecolor = 'black'\n",
    "            linewidth = 1\n",
    "            alpha = 1.0  # Fully opaque\n",
    "            hatch = None\n",
    "            text = ''\n",
    "\n",
    "            # Check if the cell is a blue cell\n",
    "            if (row, col) in blue_cells:\n",
    "                facecolor = 'blue'\n",
    "                alpha = 1.0\n",
    "                text = blue_cells[(row, col)]\n",
    "            elif (row, col) in semi_transparent_blue_cells:\n",
    "                facecolor = 'blue'\n",
    "                alpha = 0.5  # 50% opacity\n",
    "                text = semi_transparent_blue_cells[(row, col)]\n",
    "            elif (row, col) in red_dashed_cells:\n",
    "                facecolor = 'white'\n",
    "                hatch = '///'  # Simulate dashed pattern\n",
    "                edgecolor = 'red'\n",
    "                linewidth = 0  # No border lines\n",
    "\n",
    "            # Create a rectangle patch with the specified properties\n",
    "            rect = patches.Rectangle((x, y), cell_size, cell_size,\n",
    "                                     linewidth=linewidth, edgecolor=edgecolor,\n",
    "                                     facecolor=facecolor, alpha=alpha,\n",
    "                                     hatch=hatch)\n",
    "            ax.add_patch(rect)\n",
    "\n",
    "            # Add text if present\n",
    "            if text:\n",
    "                ax.text(x + 0.5, y + 0.5, text,\n",
    "                        ha='center', va='center', fontsize=14,\n",
    "                        color='white' if facecolor == 'blue' else 'red',\n",
    "                        fontweight='bold')\n",
    "\n",
    "    # Draw grid lines\n",
    "    for i in range(N + 1):\n",
    "        # Determine line width for thick lines every 3 cells\n",
    "        if i % 3 == 0:\n",
    "            lw = 2\n",
    "        else:\n",
    "            lw = 1\n",
    "        # Horizontal lines\n",
    "        ax.plot([0, N], [i, i], color='black', linewidth=lw)\n",
    "        # Vertical lines\n",
    "        ax.plot([i, i], [0, N], color='black', linewidth=lw)\n",
    "\n",
    "    # Set the limits and aspect\n",
    "    ax.set_xlim(0, N)\n",
    "    ax.set_ylim(0, N)\n",
    "    ax.set_aspect('equal')\n",
    "\n",
    "    # Remove ticks\n",
    "    ax.set_xticks([])\n",
    "    ax.set_yticks([])\n",
    "\n",
    "    # Add title\n",
    "    plt.title(\"Corner capture strategy\", fontsize=16)\n",
    "\n",
    "    # Show the plot\n",
    "    plt.show()\n",
    "\n",
    "# Call the function to display the grid\n",
    "plot_custom_sudoku()\n"
   ]
  },
  {
   "cell_type": "code",
   "execution_count": null,
   "metadata": {},
   "outputs": [],
   "source": []
  }
 ],
 "metadata": {
  "kernelspec": {
   "display_name": "envfai",
   "language": "python",
   "name": "python3"
  },
  "language_info": {
   "codemirror_mode": {
    "name": "ipython",
    "version": 3
   },
   "file_extension": ".py",
   "mimetype": "text/x-python",
   "name": "python",
   "nbconvert_exporter": "python",
   "pygments_lexer": "ipython3",
   "version": "3.10.9"
  }
 },
 "nbformat": 4,
 "nbformat_minor": 2
}
